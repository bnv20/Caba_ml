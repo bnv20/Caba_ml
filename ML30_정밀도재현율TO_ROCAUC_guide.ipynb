{
 "cells": [
  {
   "cell_type": "markdown",
   "metadata": {},
   "source": [
    "## 분류 평가\n",
    "\n",
    "* TP, FP, FN, TN는 예측 클래스와 실제 클래스의 Positive 결정 값과 Negative 결정 값의 결합에 따라 결정\n",
    "* 앞문자 True/False는 예측값과 실제값이 같은가/틀린가를 의미하고 뒤 문자 Negative/Positive는 예측 결과 값이 부정/긍정을 의미\n",
    "* TN는 예측값을 Negative 값 0으로 예측했고 실제값 역시 Negative 값 0\n",
    "* FP는 예측값을 Positive 값 1로 예측했고 실제값은 Negative 값 0\n",
    "* FN은 예측값을 Negative 값 0으로 예측했고 실제값은 Positive 값 1\n",
    "* TP는 예측값을 Positive 값 1로 예측했고 실제값 역시 Positive 값 1\n",
    "* 정확도 = (TP + TN) / ( TP + TN + FP + FN)\n",
    "* 정밀도 = TP / ( TP + FP)\n",
    "* 재현율 = TP / ( TP + FN)\n",
    "* F1 = 2 * ( 정밀도 * 재현율) / (정밀도 + 재현율)\n",
    "  : 정밀도와 재현율이 어느 한쪽으로 치우치지 않는 수치를 나타낼때 높아짐.\n",
    "* 정밀도와 재현율은 Positive 데이터 세트의 예측 성능에 좀 더 초점을 맞춘 평가 지표\n",
    "* 재현율이 중요 지표인 경우는 실제 Positive 양성 데이터를 Negative로 잘못 판단하게 되면 업무상 큰 영향이 발생하는 경우(ex. 보험사기, 암진단 - 암인데 암이 아니라고 진단하면 FN이 증가하고 재현율이 떨어진다)\n",
    "* 정밀도가 더 중요한 지표인 사례는 스팸 메일 여부를 판단하는 경우로 스팸 메일이 아닌데 스팸 메일로 분류해서 업무 차질 발생(스팸이 아닌데 스팸으로 분류하면 FP 증가하고 정밀도가 떨어진다)\n",
    "\n",
    "#### 정밀도/제현율 트레이드오프\n",
    "* 정밀도 또는 재현율이 특별히 강조돼야 할 경우 분류의 결정 임곗값(Threshold)을 조정해 정밀도 또는 재현율의 수치를 높일 수 있음\n",
    "* 정밀도와 재현율은 한쪽을 높이면 다른 하나의 수치는 낮아지므로 트레이드오프(Trade-off) 관계임\n",
    "\n",
    "#### 예측 확률을 반환하는 predict_proba()\n",
    "* 사이킷런 분류 알고리즘은 예측 데이터가 특정 레이블(결정 클래스 값)에 속하는지를 계산하기 위해 먼저 개별 레이블별로 결정 확률을 구함\n",
    "* 그리고 예측 확률이 큰 레이블 값으로 예측\n",
    "* 이진 분류 모델에서 특정 데이터가 0이 될 확률이 10%, 1이 될 확률이 90%로 예측되었다면 최종 예측은 더 큰 확률을 가진 1로 예측\n",
    "* 이진 분류에서는 이 임곗값을 0.5로 정하고 이 기준 값보다 확률이 크면 Positive, 작으면 Negative로 결정함\n",
    "* 사이킷런은 개별 데이터별로 예측 확률을 반환하는 메서드인 predict_prob()를 제공 - 학습이 완료된 사이킷런 Classifier 객체에서 호출\n",
    "* predict() 메서드와 유사하지만 단지 반환 결과가 예측 결과 클래스값이 아닌 예측 확률 결과임"
   ]
  },
  {
   "cell_type": "markdown",
   "metadata": {},
   "source": [
    "[과제]\n",
    "정밀도, 재현율이 중요한 각 케이스를 하나씩 기술하세요."
   ]
  },
  {
   "cell_type": "code",
   "execution_count": 2,
   "metadata": {},
   "outputs": [
    {
     "data": {
      "text/plain": [
       "0.8715083798882681"
      ]
     },
     "execution_count": 2,
     "metadata": {},
     "output_type": "execute_result"
    }
   ],
   "source": [
    "# 분석용 데이터셋을 재로딩, 학습/검증 데이터 분할 후 학습, 예측 및 평가(lr 사용)\n",
    "# 평가는 정확도만 적용\n",
    "import numpy as np\n",
    "import pandas as pd\n",
    "from sklearn.model_selection import train_test_split \n",
    "from sklearn.linear_model import LogisticRegression\n",
    "from sklearn.metrics import accuracy_score\n",
    "import warnings\n",
    "warnings.filterwarnings('ignore')\n",
    "\n",
    "titanic_df = pd.read_csv('dataset/tdf.csv')\n",
    "y_titanic_df = titanic_df['Survived']\n",
    "X_titanic_df= titanic_df.drop('Survived', axis=1)\n",
    "\n",
    "X_train, X_test, y_train, y_test = train_test_split(X_titanic_df, y_titanic_df, \\\n",
    "                                                    test_size=0.20, random_state=11)\n",
    "\n",
    "lr_clf = LogisticRegression()\n",
    "\n",
    "lr_clf.fit(X_train , y_train)\n",
    "pred = lr_clf.predict(X_test)\n",
    "accuracy_lr = accuracy_score(y_test,pred)\n",
    "accuracy_lr"
   ]
  },
  {
   "cell_type": "code",
   "execution_count": 9,
   "metadata": {},
   "outputs": [
    {
     "name": "stdout",
     "output_type": "stream",
     "text": [
      "pred_proba()결과 shape:(179, 2)\n",
      "pred_proba array에서 앞 3개만 샘플로 추출 \n",
      ": [[0.49493622 0.50506378]\n",
      " [0.85471758 0.14528242]\n",
      " [0.8798258  0.1201742 ]]\n",
      "\n",
      "pred에서 앞 3개만 샘플로 추출 \n",
      ": [1 0 0]\n",
      "pred.reshape(-1,1)에서 앞 3개만 샘플로 추출 \n",
      ": [[1]\n",
      " [0]\n",
      " [0]]\n",
      "\n"
     ]
    },
    {
     "data": {
      "text/plain": [
       "array([[0.49493622, 0.50506378, 1.        ],\n",
       "       [0.85471758, 0.14528242, 0.        ],\n",
       "       [0.8798258 , 0.1201742 , 0.        ],\n",
       "       [0.77675701, 0.22324299, 0.        ],\n",
       "       [0.80564863, 0.19435137, 0.        ],\n",
       "       [0.80320573, 0.19679427, 0.        ],\n",
       "       [0.89974359, 0.10025641, 0.        ],\n",
       "       [0.30105511, 0.69894489, 1.        ],\n",
       "       [0.83772283, 0.16227717, 0.        ],\n",
       "       [0.28269896, 0.71730104, 1.        ],\n",
       "       [0.80928605, 0.19071395, 0.        ],\n",
       "       [0.91989281, 0.08010719, 0.        ],\n",
       "       [0.87979422, 0.12020578, 0.        ],\n",
       "       [0.89951865, 0.10048135, 0.        ],\n",
       "       [0.63211366, 0.36788634, 0.        ],\n",
       "       [0.89963507, 0.10036493, 0.        ],\n",
       "       [0.90981752, 0.09018248, 0.        ],\n",
       "       [0.79200456, 0.20799544, 0.        ],\n",
       "       [0.69430525, 0.30569475, 0.        ],\n",
       "       [0.06487222, 0.93512778, 1.        ],\n",
       "       [0.71677882, 0.28322118, 0.        ],\n",
       "       [0.6080785 , 0.3919215 , 0.        ],\n",
       "       [0.89926661, 0.10073339, 0.        ],\n",
       "       [0.85676383, 0.14323617, 0.        ],\n",
       "       [0.89768858, 0.10231142, 0.        ],\n",
       "       [0.79885051, 0.20114949, 0.        ],\n",
       "       [0.80952625, 0.19047375, 0.        ],\n",
       "       [0.94671743, 0.05328257, 0.        ],\n",
       "       [0.79200456, 0.20799544, 0.        ],\n",
       "       [0.69080768, 0.30919232, 0.        ],\n",
       "       [0.07542196, 0.92457804, 1.        ],\n",
       "       [0.16643116, 0.83356884, 1.        ],\n",
       "       [0.84483925, 0.15516075, 0.        ],\n",
       "       [0.05440558, 0.94559442, 1.        ],\n",
       "       [0.577554  , 0.422446  , 0.        ],\n",
       "       [0.79885051, 0.20114949, 0.        ],\n",
       "       [0.90672506, 0.09327494, 0.        ],\n",
       "       [0.4994233 , 0.5005767 , 1.        ],\n",
       "       [0.95212922, 0.04787078, 0.        ],\n",
       "       [0.85502987, 0.14497013, 0.        ],\n",
       "       [0.71636382, 0.28363618, 0.        ],\n",
       "       [0.92190064, 0.07809936, 0.        ],\n",
       "       [0.16751402, 0.83248598, 1.        ],\n",
       "       [0.41229541, 0.58770459, 1.        ],\n",
       "       [0.36800551, 0.63199449, 1.        ],\n",
       "       [0.36791803, 0.63208197, 1.        ],\n",
       "       [0.05401542, 0.94598458, 1.        ],\n",
       "       [0.73342067, 0.26657933, 0.        ],\n",
       "       [0.08284529, 0.91715471, 1.        ],\n",
       "       [0.89751685, 0.10248315, 0.        ],\n",
       "       [0.59371972, 0.40628028, 0.        ],\n",
       "       [0.89951865, 0.10048135, 0.        ],\n",
       "       [0.89965616, 0.10034384, 0.        ],\n",
       "       [0.10120457, 0.89879543, 1.        ],\n",
       "       [0.79200456, 0.20799544, 0.        ],\n",
       "       [0.85755129, 0.14244871, 0.        ],\n",
       "       [0.61268601, 0.38731399, 0.        ],\n",
       "       [0.8798203 , 0.1201797 , 0.        ],\n",
       "       [0.89941814, 0.10058186, 0.        ],\n",
       "       [0.61314777, 0.38685223, 0.        ],\n",
       "       [0.79328412, 0.20671588, 0.        ],\n",
       "       [0.92662499, 0.07337501, 0.        ],\n",
       "       [0.60976306, 0.39023694, 0.        ],\n",
       "       [0.51037906, 0.48962094, 0.        ],\n",
       "       [0.53366243, 0.46633757, 0.        ],\n",
       "       [0.85495427, 0.14504573, 0.        ],\n",
       "       [0.41563064, 0.58436936, 1.        ],\n",
       "       [0.31867628, 0.68132372, 1.        ],\n",
       "       [0.11715901, 0.88284099, 1.        ],\n",
       "       [0.85695905, 0.14304095, 0.        ],\n",
       "       [0.91976458, 0.08023542, 0.        ],\n",
       "       [0.88960601, 0.11039399, 0.        ],\n",
       "       [0.85501381, 0.14498619, 0.        ],\n",
       "       [0.09672065, 0.90327935, 1.        ],\n",
       "       [0.80952625, 0.19047375, 0.        ],\n",
       "       [0.89951865, 0.10048135, 0.        ],\n",
       "       [0.46327979, 0.53672021, 1.        ],\n",
       "       [0.80320573, 0.19679427, 0.        ],\n",
       "       [0.23378653, 0.76621347, 1.        ],\n",
       "       [0.8798203 , 0.1201797 , 0.        ],\n",
       "       [0.16751402, 0.83248598, 1.        ],\n",
       "       [0.31091711, 0.68908289, 1.        ],\n",
       "       [0.06064963, 0.93935037, 1.        ],\n",
       "       [0.85171947, 0.14828053, 0.        ],\n",
       "       [0.09665541, 0.90334459, 1.        ],\n",
       "       [0.12742388, 0.87257612, 1.        ],\n",
       "       [0.79776287, 0.20223713, 0.        ],\n",
       "       [0.82818823, 0.17181177, 0.        ],\n",
       "       [0.17029791, 0.82970209, 1.        ],\n",
       "       [0.89951865, 0.10048135, 0.        ],\n",
       "       [0.89951865, 0.10048135, 0.        ],\n",
       "       [0.79885051, 0.20114949, 0.        ],\n",
       "       [0.74131151, 0.25868849, 0.        ],\n",
       "       [0.89951865, 0.10048135, 0.        ],\n",
       "       [0.36791803, 0.63208197, 1.        ],\n",
       "       [0.90873385, 0.09126615, 0.        ],\n",
       "       [0.07841203, 0.92158797, 1.        ],\n",
       "       [0.85506044, 0.14493956, 0.        ],\n",
       "       [0.65691745, 0.34308255, 0.        ],\n",
       "       [0.06835903, 0.93164097, 1.        ],\n",
       "       [0.65806955, 0.34193045, 0.        ],\n",
       "       [0.79869697, 0.20130303, 0.        ],\n",
       "       [0.04450621, 0.95549379, 1.        ],\n",
       "       [0.85555342, 0.14444658, 0.        ],\n",
       "       [0.44064935, 0.55935065, 1.        ],\n",
       "       [0.90162075, 0.09837925, 0.        ],\n",
       "       [0.8994463 , 0.1005537 , 0.        ],\n",
       "       [0.85696065, 0.14303935, 0.        ],\n",
       "       [0.64974486, 0.35025514, 0.        ],\n",
       "       [0.90924341, 0.09075659, 0.        ],\n",
       "       [0.80904562, 0.19095438, 0.        ],\n",
       "       [0.85495427, 0.14504573, 0.        ],\n",
       "       [0.38900983, 0.61099017, 1.        ],\n",
       "       [0.40752661, 0.59247339, 1.        ],\n",
       "       [0.89768858, 0.10231142, 0.        ],\n",
       "       [0.9215803 , 0.0784197 , 0.        ],\n",
       "       [0.80952625, 0.19047375, 0.        ],\n",
       "       [0.81072378, 0.18927622, 0.        ],\n",
       "       [0.09340822, 0.90659178, 1.        ],\n",
       "       [0.90916875, 0.09083125, 0.        ],\n",
       "       [0.89956204, 0.10043796, 0.        ],\n",
       "       [0.84483925, 0.15516075, 0.        ],\n",
       "       [0.93175874, 0.06824126, 0.        ],\n",
       "       [0.64887489, 0.35112511, 0.        ],\n",
       "       [0.99421984, 0.00578016, 0.        ],\n",
       "       [0.89956204, 0.10043796, 0.        ],\n",
       "       [0.93037735, 0.06962265, 0.        ],\n",
       "       [0.77602748, 0.22397252, 0.        ],\n",
       "       [0.43773121, 0.56226879, 1.        ],\n",
       "       [0.50729835, 0.49270165, 0.        ],\n",
       "       [0.06835903, 0.93164097, 1.        ],\n",
       "       [0.51038492, 0.48961508, 0.        ],\n",
       "       [0.37520279, 0.62479721, 1.        ],\n",
       "       [0.6159014 , 0.3840986 , 0.        ],\n",
       "       [0.39218319, 0.60781681, 1.        ],\n",
       "       [0.73348916, 0.26651084, 0.        ],\n",
       "       [0.19031702, 0.80968298, 1.        ],\n",
       "       [0.70252143, 0.29747857, 0.        ],\n",
       "       [0.85483355, 0.14516645, 0.        ],\n",
       "       [0.13510344, 0.86489656, 1.        ],\n",
       "       [0.08502915, 0.91497085, 1.        ],\n",
       "       [0.85696065, 0.14303935, 0.        ],\n",
       "       [0.82818823, 0.17181177, 0.        ],\n",
       "       [0.77978045, 0.22021955, 0.        ],\n",
       "       [0.90903473, 0.09096527, 0.        ],\n",
       "       [0.51495895, 0.48504105, 0.        ],\n",
       "       [0.90902077, 0.09097923, 0.        ],\n",
       "       [0.63804964, 0.36195036, 0.        ],\n",
       "       [0.14091498, 0.85908502, 1.        ],\n",
       "       [0.77567798, 0.22432202, 0.        ],\n",
       "       [0.63211366, 0.36788634, 0.        ],\n",
       "       [0.50502926, 0.49497074, 0.        ],\n",
       "       [0.46849206, 0.53150794, 1.        ],\n",
       "       [0.8801136 , 0.1198864 , 0.        ],\n",
       "       [0.2910052 , 0.7089948 , 1.        ],\n",
       "       [0.1997119 , 0.8002881 , 1.        ],\n",
       "       [0.56483869, 0.43516131, 0.        ],\n",
       "       [0.89896531, 0.10103469, 0.        ],\n",
       "       [0.27585545, 0.72414455, 1.        ],\n",
       "       [0.36754794, 0.63245206, 1.        ],\n",
       "       [0.89920194, 0.10079806, 0.        ],\n",
       "       [0.30770691, 0.69229309, 1.        ],\n",
       "       [0.91094658, 0.08905342, 0.        ],\n",
       "       [0.41602777, 0.58397223, 1.        ],\n",
       "       [0.69731103, 0.30268897, 0.        ],\n",
       "       [0.41481779, 0.58518221, 1.        ],\n",
       "       [0.08697662, 0.91302338, 1.        ],\n",
       "       [0.63804964, 0.36195036, 0.        ],\n",
       "       [0.90893168, 0.09106832, 0.        ],\n",
       "       [0.09717412, 0.90282588, 1.        ],\n",
       "       [0.89974359, 0.10025641, 0.        ],\n",
       "       [0.06422189, 0.93577811, 1.        ],\n",
       "       [0.69328909, 0.30671091, 0.        ],\n",
       "       [0.84376798, 0.15623202, 0.        ],\n",
       "       [0.65506705, 0.34493295, 0.        ],\n",
       "       [0.9089424 , 0.0910576 , 0.        ],\n",
       "       [0.89941814, 0.10058186, 0.        ],\n",
       "       [0.61268601, 0.38731399, 0.        ],\n",
       "       [0.5490186 , 0.4509814 , 0.        ]])"
      ]
     },
     "execution_count": 9,
     "metadata": {},
     "output_type": "execute_result"
    }
   ],
   "source": [
    "pred_proba = lr_clf.predict_proba(X_test)\n",
    "pred = lr_clf.predict(X_test)\n",
    "print('pred_proba()결과 shape:{0}'.format(pred_proba.shape))\n",
    "print('pred_proba array에서 앞 3개만 샘플로 추출 \\n:',pred_proba[:3])\n",
    "print()\n",
    "print('pred에서 앞 3개만 샘플로 추출 \\n:', pred[:3])\n",
    "print('pred.reshape(-1,1)에서 앞 3개만 샘플로 추출 \\n:', pred.reshape(-1,1)[:3])\n",
    "print()\n",
    "pred_proba_result = np.concatenate([pred_proba,pred.reshape(-1,1)],axis=1)\n",
    "pred_proba_result"
   ]
  },
  {
   "cell_type": "code",
   "execution_count": 12,
   "metadata": {},
   "outputs": [
    {
     "name": "stdout",
     "output_type": "stream",
     "text": [
      "[[0. 0. 1.]\n",
      " [1. 0. 0.]\n",
      " [0. 0. 1.]]\n"
     ]
    }
   ],
   "source": [
    "from sklearn.preprocessing import Binarizer\n",
    "\n",
    "X=[[1,-1,2],\n",
    "  [2,0,0],\n",
    "  [0,1.1,1.2]]\n",
    "# threshold(임계값) 기준값 보다 같거나 작으면 0, 크면 1을 반환\n",
    "binarizer = Binarizer(threshold=1.1)\n",
    "print(binarizer.fit_transform(X))"
   ]
  },
  {
   "cell_type": "code",
   "execution_count": 14,
   "metadata": {},
   "outputs": [
    {
     "name": "stdout",
     "output_type": "stream",
     "text": [
      "[[0.49493622 0.50506378]\n",
      " [0.85471758 0.14528242]\n",
      " [0.8798258  0.1201742 ]\n",
      " [0.77675701 0.22324299]\n",
      " [0.80564863 0.19435137]]\n",
      "\n",
      "[[0.50506378]\n",
      " [0.14528242]\n",
      " [0.1201742 ]\n",
      " [0.22324299]\n",
      " [0.19435137]]\n"
     ]
    },
    {
     "data": {
      "text/plain": [
       "array([[1.],\n",
       "       [0.],\n",
       "       [0.],\n",
       "       [0.],\n",
       "       [0.]])"
      ]
     },
     "execution_count": 14,
     "metadata": {},
     "output_type": "execute_result"
    }
   ],
   "source": [
    "# 생존 확률을 선택해서 임계값 0.5 기준으로 예측\n",
    "custom_threshold = 0.5\n",
    "print(pred_proba[0:5])\n",
    "print()\n",
    "# 생존 확률 추출 후 2차원 배열로 변환\n",
    "pred_proba_1 = pred_proba[:,1].reshape(-1,1)\n",
    "print(pred_proba_1[0:5])\n",
    "binarizer = Binarizer(threshold=custom_threshold).fit(pred_proba_1)\n",
    "custom_predict = binarizer.transform(pred_proba_1)\n",
    "custom_predict[0:5]"
   ]
  },
  {
   "cell_type": "code",
   "execution_count": 18,
   "metadata": {},
   "outputs": [
    {
     "name": "stdout",
     "output_type": "stream",
     "text": [
      "오차행렬\n",
      "[[110   8]\n",
      " [ 15  46]]\n",
      "정확도:0.8715, 정밀도:0.8519, 재현율:0.7541,     f1 score:0.8000\n"
     ]
    }
   ],
   "source": [
    "from sklearn.metrics import accuracy_score, precision_score, recall_score,\\\n",
    "confusion_matrix, f1_score\n",
    "\n",
    "def get_clf_eval(y_test,pred):\n",
    "    confusion = confusion_matrix(y_test,pred)\n",
    "    accuracy = accuracy_score(y_test,pred)\n",
    "    precision = precision_score(y_test,pred)\n",
    "    recall = recall_score(y_test,pred)\n",
    "    f1 = f1_score(y_test,pred)\n",
    "    print('오차행렬')\n",
    "    print(confusion)\n",
    "    print('정확도:{0:.4f}, 정밀도:{1:.4f}, 재현율:{2:.4f}, \\\n",
    "    f1 score:{3:.4f}'.format(accuracy,precision,recall,f1))\n",
    "    \n",
    "get_clf_eval(y_test,custom_predict)"
   ]
  },
  {
   "cell_type": "code",
   "execution_count": 19,
   "metadata": {},
   "outputs": [
    {
     "name": "stdout",
     "output_type": "stream",
     "text": [
      "오차행렬\n",
      "[[106  12]\n",
      " [  9  52]]\n",
      "정확도:0.8827, 정밀도:0.8125, 재현율:0.8525,     f1 score:0.8320\n"
     ]
    }
   ],
   "source": [
    "# 임계값을 내리면 Positive 예측을 많이 할 수 있음\n",
    "custom_threshold = 0.4\n",
    "pred_proba_1 = pred_proba[:,1].reshape(-1,1)\n",
    "binarizer = Binarizer(threshold=custom_threshold).fit(pred_proba_1)\n",
    "custom_predict = binarizer.transform(pred_proba_1)\n",
    "\n",
    "get_clf_eval(y_test, custom_predict)"
   ]
  },
  {
   "cell_type": "code",
   "execution_count": null,
   "metadata": {},
   "outputs": [],
   "source": [
    "정밀도 = TP/(TP+FP)\n",
    "재현율 = TP/(TP+FN)"
   ]
  },
  {
   "cell_type": "code",
   "execution_count": null,
   "metadata": {},
   "outputs": [],
   "source": [
    "# [과제]  수작업으로 계산해서 아래 지표들을 출력하세요\n",
    "\n",
    "print('정확도:',  )\n",
    "정밀도:\n",
    "재현율:\n",
    "f1 score:"
   ]
  },
  {
   "cell_type": "code",
   "execution_count": null,
   "metadata": {},
   "outputs": [],
   "source": [
    "정확도: 0.8715\n",
    "정밀도: 0.8519\n",
    "재현율: 0.7541\n",
    "f1 score: 0.8000"
   ]
  },
  {
   "cell_type": "code",
   "execution_count": 22,
   "metadata": {},
   "outputs": [
    {
     "name": "stdout",
     "output_type": "stream",
     "text": [
      "임계값: 0.4\n",
      "오차행렬\n",
      "[[106  12]\n",
      " [  9  52]]\n",
      "정확도:0.8827, 정밀도:0.8125, 재현율:0.8525,     f1 score:0.8320\n",
      "\n",
      "임계값: 0.45\n",
      "오차행렬\n",
      "[[108  10]\n",
      " [ 10  51]]\n",
      "정확도:0.8883, 정밀도:0.8361, 재현율:0.8361,     f1 score:0.8361\n",
      "\n",
      "임계값: 0.5\n",
      "오차행렬\n",
      "[[110   8]\n",
      " [ 15  46]]\n",
      "정확도:0.8715, 정밀도:0.8519, 재현율:0.7541,     f1 score:0.8000\n",
      "\n",
      "임계값: 0.55\n",
      "오차행렬\n",
      "[[112   6]\n",
      " [ 17  44]]\n",
      "정확도:0.8715, 정밀도:0.8800, 재현율:0.7213,     f1 score:0.7928\n",
      "\n",
      "임계값: 0.6\n",
      "오차행렬\n",
      "[[114   4]\n",
      " [ 22  39]]\n",
      "정확도:0.8547, 정밀도:0.9070, 재현율:0.6393,     f1 score:0.7500\n",
      "\n"
     ]
    }
   ],
   "source": [
    "# 테스트를 수행할 모든 임계값을 리스트 객체로 저장\n",
    "thresholds = [0.4,0.45,0.5,0.55,0.6]\n",
    "\n",
    "def get_eval_by_threshold(y_test,pred_proba_c1,thresholds):\n",
    "    # thresholds list 객체내의 값을 차례로 iteration하면서 평가 수행\n",
    "    for custom_threshold in thresholds:\n",
    "        binarizer = Binarizer(threshold=custom_threshold).fit(pred_proba_c1)\n",
    "        custom_predict = binarizer.transform(pred_proba_c1)\n",
    "        print('임계값:',custom_threshold)\n",
    "        \n",
    "        get_clf_eval(y_test,custom_predict)\n",
    "        print()\n",
    "get_eval_by_threshold(y_test,pred_proba[:,1].reshape(-1,1),thresholds)"
   ]
  },
  {
   "cell_type": "code",
   "execution_count": 28,
   "metadata": {},
   "outputs": [
    {
     "name": "stdout",
     "output_type": "stream",
     "text": [
      "(140,)\n",
      "[  0  15  30  45  60  75  90 105 120 135]\n",
      "임계값: [0.09 0.1  0.14 0.19 0.28 0.39 0.51 0.63 0.86 0.94]\n",
      "정밀도: [0.365 0.407 0.46  0.519 0.628 0.768 0.868 0.946 0.952 1.   ]\n",
      "재현율: [1.    0.967 0.951 0.902 0.885 0.869 0.754 0.574 0.328 0.082]\n"
     ]
    }
   ],
   "source": [
    "from sklearn.metrics import precision_recall_curve\n",
    "\n",
    "# 레이블 값이 1일때의 예측 확률을 추출\n",
    "pred_proba_class1 = lr_clf.predict_proba(X_test)[:,1]\n",
    "\n",
    "# 실제값 데이터셋과 레이블값이 1일때의 예측확률을 precision_recall_curve 인자로 입력\n",
    "precisions, recalls, thresholds = precision_recall_curve(y_test,pred_proba_class1)\n",
    "print(thresholds.shape)\n",
    "\n",
    "thr_index = np.arange(0,thresholds.shape[0],15)\n",
    "print(thr_index)\n",
    "print('임계값:',np.round(thresholds[thr_index],2))\n",
    "\n",
    "# 15 step 단위의 추출된 임계값에 따른 정밀도와 재현율 \n",
    "print('정밀도:',np.round(precisions[thr_index],3))\n",
    "print('재현율:',np.round(recalls[thr_index],3))"
   ]
  },
  {
   "cell_type": "code",
   "execution_count": 32,
   "metadata": {},
   "outputs": [
    {
     "data": {
      "image/png": "[encoded data removed]",
      "text/plain": [
       "<Figure size 576x432 with 1 Axes>"
      ]
     },
     "metadata": {
      "needs_background": "light"
     },
     "output_type": "display_data"
    }
   ],
   "source": [
    "import matplotlib.pyplot as plt\n",
    "import matplotlib.ticker as ticker\n",
    "\n",
    "def precision_recall_curve_plot(y_test,pred_proba_c1):\n",
    "    precision,recalls,thresholds = precision_recall_curve(y_test,pred_proba_c1)\n",
    "    \n",
    "    plt.figure(figsize=(8,6))\n",
    "    threshold_boundary=thresholds.shape[0]\n",
    "    plt.plot(thresholds, precisions[0:threshold_boundary], linestyle='--', \\\n",
    "             label='precision')\n",
    "    plt.plot(thresholds, recalls[0:threshold_boundary],label='recall')\n",
    "    # x축 y축 label과 scale을 0.1단위로 변경\n",
    "    start, end = plt.xlim()\n",
    "    plt.xticks(np.round(np.arange(start,end,0.1),2))\n",
    "    # x축 y축 label과 legend, grid 설정\n",
    "    plt.xlabel('Threshold value');plt.ylabel('Precision and Recall Value')\n",
    "    plt.legend();plt.grid()\n",
    "precision_recall_curve_plot(y_test, lr_clf.predict_proba(X_test)[:,1])"
   ]
  }
 ],
 "metadata": {
  "kernelspec": {
   "display_name": "Python 3",
   "language": "python",
   "name": "python3"
  },
  "language_info": {
   "codemirror_mode": {
    "name": "ipython",
    "version": 3
   },
   "file_extension": ".py",
   "mimetype": "text/x-python",
   "name": "python",
   "nbconvert_exporter": "python",
   "pygments_lexer": "ipython3",
   "version": "3.7.9"
  }
 },
 "nbformat": 4,
 "nbformat_minor": 4
}
